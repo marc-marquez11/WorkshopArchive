{
 "cells": [
  {
   "cell_type": "code",
   "execution_count": 70,
   "id": "d945a0a5-2c88-45ff-a48e-e4b08e5878b3",
   "metadata": {},
   "outputs": [
    {
     "name": "stdout",
     "output_type": "stream",
     "text": [
      "Failed to create playlist. Status code: 503\n"
     ]
    }
   ],
   "source": [
    "import requests\n",
    "from requests.auth import HTTPBasicAuth\n",
    "\n",
    "CLIENT_ID = 'a59df7976a7947b89abf26b5c3f79ed5'\n",
    "CLIENT_SECRET = '5bed98cdbf454813b59b2e1fa4b4f301'\n",
    "\n",
    "# Get access token\n",
    "auth_url = 'https://accounts.spotify.com/api/token'\n",
    "auth_response = requests.post(auth_url, {\n",
    "    'grant_type': 'client_credentials',\n",
    "    'client_id': CLIENT_ID,\n",
    "    'client_secret': CLIENT_SECRET,\n",
    "})\n",
    "\n",
    "access_token = auth_response.json()['access_token']\n",
    "\n",
    "# Search for a track\n",
    "user_id = 'mariellehere'\n",
    "create_PL_url = f\"https://api.spotify.com/v1/users/{user_id}/playlists\"\n",
    "headers = {'Authorization': f'Bearer {access_token}',\n",
    "            \"Content-Type\": \"application/json\"}\n",
    "\n",
    "data = {\n",
    "    \"name\": \"New Playlist\",  # Playlist name\n",
    "    \"description\": \"New playlist description\",  # Playlist description\n",
    "    \"public\": True  # Playlist visibility (False = private)\n",
    "}\n",
    "\n",
    "# Make the POST request to create the playlist\n",
    "response = requests.post(url, headers=headers, json=data)\n",
    "\n",
    "# Check the raw response content\n",
    "#print(f\"Response content: {response.text}\")\n",
    "\n",
    "# Check the response status code\n",
    "if response.status_code == 201:\n",
    "    print(\"Playlist created successfully!\")\n",
    "else:\n",
    "    print(f\"Failed to create playlist. Status code: {response.status_code}\")\n"
   ]
  },
  {
   "cell_type": "code",
   "execution_count": 16,
   "id": "21a20212-1d4f-4b8a-ac45-9deacbec0be0",
   "metadata": {
    "scrolled": true
   },
   "outputs": [
    {
     "name": "stdout",
     "output_type": "stream",
     "text": [
      "Collecting google-api-python-client\n",
      "  Downloading google_api_python_client-2.147.0-py2.py3-none-any.whl.metadata (6.7 kB)\n",
      "Collecting google-auth-httplib2\n",
      "  Downloading google_auth_httplib2-0.2.0-py2.py3-none-any.whl.metadata (2.2 kB)\n",
      "Collecting google-auth-oauthlib\n",
      "  Downloading google_auth_oauthlib-1.2.1-py2.py3-none-any.whl.metadata (2.7 kB)\n",
      "Collecting httplib2<1.dev0,>=0.19.0 (from google-api-python-client)\n",
      "  Downloading httplib2-0.22.0-py3-none-any.whl.metadata (2.6 kB)\n",
      "Collecting google-auth!=2.24.0,!=2.25.0,<3.0.0.dev0,>=1.32.0 (from google-api-python-client)\n",
      "  Downloading google_auth-2.35.0-py2.py3-none-any.whl.metadata (4.7 kB)\n",
      "Collecting google-api-core!=2.0.*,!=2.1.*,!=2.2.*,!=2.3.0,<3.0.0.dev0,>=1.31.5 (from google-api-python-client)\n",
      "  Downloading google_api_core-2.20.0-py3-none-any.whl.metadata (2.7 kB)\n",
      "Collecting uritemplate<5,>=3.0.1 (from google-api-python-client)\n",
      "  Downloading uritemplate-4.1.1-py2.py3-none-any.whl.metadata (2.9 kB)\n",
      "Collecting requests-oauthlib>=0.7.0 (from google-auth-oauthlib)\n",
      "  Downloading requests_oauthlib-2.0.0-py2.py3-none-any.whl.metadata (11 kB)\n",
      "Collecting googleapis-common-protos<2.0.dev0,>=1.56.2 (from google-api-core!=2.0.*,!=2.1.*,!=2.2.*,!=2.3.0,<3.0.0.dev0,>=1.31.5->google-api-python-client)\n",
      "  Downloading googleapis_common_protos-1.65.0-py2.py3-none-any.whl.metadata (1.5 kB)\n",
      "Requirement already satisfied: protobuf!=3.20.0,!=3.20.1,!=4.21.0,!=4.21.1,!=4.21.2,!=4.21.3,!=4.21.4,!=4.21.5,<6.0.0.dev0,>=3.19.5 in c:\\users\\madoe\\anaconda3\\lib\\site-packages (from google-api-core!=2.0.*,!=2.1.*,!=2.2.*,!=2.3.0,<3.0.0.dev0,>=1.31.5->google-api-python-client) (3.20.3)\n",
      "Collecting proto-plus<2.0.0dev,>=1.22.3 (from google-api-core!=2.0.*,!=2.1.*,!=2.2.*,!=2.3.0,<3.0.0.dev0,>=1.31.5->google-api-python-client)\n",
      "  Downloading proto_plus-1.24.0-py3-none-any.whl.metadata (2.2 kB)\n",
      "Requirement already satisfied: requests<3.0.0.dev0,>=2.18.0 in c:\\users\\madoe\\anaconda3\\lib\\site-packages (from google-api-core!=2.0.*,!=2.1.*,!=2.2.*,!=2.3.0,<3.0.0.dev0,>=1.31.5->google-api-python-client) (2.32.2)\n",
      "Requirement already satisfied: cachetools<6.0,>=2.0.0 in c:\\users\\madoe\\anaconda3\\lib\\site-packages (from google-auth!=2.24.0,!=2.25.0,<3.0.0.dev0,>=1.32.0->google-api-python-client) (5.3.3)\n",
      "Requirement already satisfied: pyasn1-modules>=0.2.1 in c:\\users\\madoe\\anaconda3\\lib\\site-packages (from google-auth!=2.24.0,!=2.25.0,<3.0.0.dev0,>=1.32.0->google-api-python-client) (0.2.8)\n",
      "Collecting rsa<5,>=3.1.4 (from google-auth!=2.24.0,!=2.25.0,<3.0.0.dev0,>=1.32.0->google-api-python-client)\n",
      "  Downloading rsa-4.9-py3-none-any.whl.metadata (4.2 kB)\n",
      "Requirement already satisfied: pyparsing!=3.0.0,!=3.0.1,!=3.0.2,!=3.0.3,<4,>=2.4.2 in c:\\users\\madoe\\anaconda3\\lib\\site-packages (from httplib2<1.dev0,>=0.19.0->google-api-python-client) (3.0.9)\n",
      "Collecting oauthlib>=3.0.0 (from requests-oauthlib>=0.7.0->google-auth-oauthlib)\n",
      "  Downloading oauthlib-3.2.2-py3-none-any.whl.metadata (7.5 kB)\n",
      "Requirement already satisfied: pyasn1<0.5.0,>=0.4.6 in c:\\users\\madoe\\anaconda3\\lib\\site-packages (from pyasn1-modules>=0.2.1->google-auth!=2.24.0,!=2.25.0,<3.0.0.dev0,>=1.32.0->google-api-python-client) (0.4.8)\n",
      "Requirement already satisfied: charset-normalizer<4,>=2 in c:\\users\\madoe\\anaconda3\\lib\\site-packages (from requests<3.0.0.dev0,>=2.18.0->google-api-core!=2.0.*,!=2.1.*,!=2.2.*,!=2.3.0,<3.0.0.dev0,>=1.31.5->google-api-python-client) (2.0.4)\n",
      "Requirement already satisfied: idna<4,>=2.5 in c:\\users\\madoe\\anaconda3\\lib\\site-packages (from requests<3.0.0.dev0,>=2.18.0->google-api-core!=2.0.*,!=2.1.*,!=2.2.*,!=2.3.0,<3.0.0.dev0,>=1.31.5->google-api-python-client) (3.7)\n",
      "Requirement already satisfied: urllib3<3,>=1.21.1 in c:\\users\\madoe\\anaconda3\\lib\\site-packages (from requests<3.0.0.dev0,>=2.18.0->google-api-core!=2.0.*,!=2.1.*,!=2.2.*,!=2.3.0,<3.0.0.dev0,>=1.31.5->google-api-python-client) (2.2.2)\n",
      "Requirement already satisfied: certifi>=2017.4.17 in c:\\users\\madoe\\anaconda3\\lib\\site-packages (from requests<3.0.0.dev0,>=2.18.0->google-api-core!=2.0.*,!=2.1.*,!=2.2.*,!=2.3.0,<3.0.0.dev0,>=1.31.5->google-api-python-client) (2024.6.2)\n",
      "Downloading google_api_python_client-2.147.0-py2.py3-none-any.whl (12.2 MB)\n",
      "   ---------------------------------------- 0.0/12.2 MB ? eta -:--:--\n",
      "   --- ------------------------------------ 1.0/12.2 MB 12.5 MB/s eta 0:00:01\n",
      "   ------------- -------------------------- 4.2/12.2 MB 13.2 MB/s eta 0:00:01\n",
      "   ----------------------- ---------------- 7.1/12.2 MB 13.2 MB/s eta 0:00:01\n",
      "   ------------------------------- -------- 9.7/12.2 MB 13.1 MB/s eta 0:00:01\n",
      "   ------------------------------------- -- 11.5/12.2 MB 12.2 MB/s eta 0:00:01\n",
      "   ---------------------------------------- 12.2/12.2 MB 12.0 MB/s eta 0:00:00\n",
      "Downloading google_auth_httplib2-0.2.0-py2.py3-none-any.whl (9.3 kB)\n",
      "Downloading google_auth_oauthlib-1.2.1-py2.py3-none-any.whl (24 kB)\n",
      "Downloading google_api_core-2.20.0-py3-none-any.whl (142 kB)\n",
      "Downloading google_auth-2.35.0-py2.py3-none-any.whl (208 kB)\n",
      "Downloading httplib2-0.22.0-py3-none-any.whl (96 kB)\n",
      "Downloading requests_oauthlib-2.0.0-py2.py3-none-any.whl (24 kB)\n",
      "Downloading uritemplate-4.1.1-py2.py3-none-any.whl (10 kB)\n",
      "Downloading googleapis_common_protos-1.65.0-py2.py3-none-any.whl (220 kB)\n",
      "Downloading oauthlib-3.2.2-py3-none-any.whl (151 kB)\n",
      "Downloading proto_plus-1.24.0-py3-none-any.whl (50 kB)\n",
      "Downloading rsa-4.9-py3-none-any.whl (34 kB)\n",
      "Installing collected packages: uritemplate, rsa, proto-plus, oauthlib, httplib2, googleapis-common-protos, requests-oauthlib, google-auth, google-auth-oauthlib, google-auth-httplib2, google-api-core, google-api-python-client\n",
      "Successfully installed google-api-core-2.20.0 google-api-python-client-2.147.0 google-auth-2.35.0 google-auth-httplib2-0.2.0 google-auth-oauthlib-1.2.1 googleapis-common-protos-1.65.0 httplib2-0.22.0 oauthlib-3.2.2 proto-plus-1.24.0 requests-oauthlib-2.0.0 rsa-4.9 uritemplate-4.1.1\n"
     ]
    }
   ],
   "source": [
    "!pip install --upgrade google-api-python-client google-auth-httplib2 google-auth-oauthlib"
   ]
  },
  {
   "cell_type": "code",
   "execution_count": 52,
   "id": "928d7117-bc00-4f57-b8cf-c47a5f818695",
   "metadata": {},
   "outputs": [
    {
     "name": "stdout",
     "output_type": "stream",
     "text": [
      "Event created: https://www.google.com/calendar/event?eid=cWlta3FiZWU0NzNvdmdrc3UzZjJpZjZqMG8gbWFkb2VuZ2VzNjZAbQ\n"
     ]
    }
   ],
   "source": [
    "import datetime\n",
    "import os.path\n",
    "\n",
    "from google.auth.transport.requests import Request\n",
    "from google.oauth2.credentials import Credentials\n",
    "from google_auth_oauthlib.flow import InstalledAppFlow\n",
    "from googleapiclient.discovery import build\n",
    "from googleapiclient.errors import HttpError\n",
    "\n",
    "# If modifying these scopes, delete the file token.json.\n",
    "SCOPES = [\"https://www.googleapis.com/auth/calendar\"]\n",
    "\n",
    "\n",
    "def main():\n",
    "  \"\"\"Shows basic usage of the Google Calendar API.\n",
    "  Prints the start and name of the next 10 events on the user's calendar.\n",
    "  \"\"\"\n",
    "  creds = None\n",
    "  # The file token.json stores the user's access and refresh tokens, and is\n",
    "  # created automatically when the authorization flow completes for the first\n",
    "  # time.\n",
    "  if os.path.exists(\"token.json\"):\n",
    "    creds = Credentials.from_authorized_user_file(\"token.json\", SCOPES)\n",
    "  # If there are no (valid) credentials available, let the user log in.\n",
    "  if not creds or not creds.valid:\n",
    "    if creds and creds.expired and creds.refresh_token:\n",
    "      creds.refresh(Request())\n",
    "    else:\n",
    "      flow = InstalledAppFlow.from_client_secrets_file(\n",
    "          \"credentials.json\", SCOPES\n",
    "      )\n",
    "      creds = flow.run_local_server(port=0)\n",
    "    # Save the credentials for the next run\n",
    "    with open(\"token.json\", \"w\") as token:\n",
    "      token.write(creds.to_json())\n",
    "\n",
    "  try:\n",
    "    service = build(\"calendar\", \"v3\", credentials=creds)\n",
    "\n",
    "    event = {\n",
    "      'summary': 'Sample',\n",
    "      'location': 'somewhere',\n",
    "      'description': 'Ohhh i want this to work so bad',\n",
    "      'start': {\n",
    "        'dateTime': '2024-10-04T09:00:00-07:00',\n",
    "        'timeZone': 'America/Los_Angeles',\n",
    "      },\n",
    "      'end': {\n",
    "        'dateTime': '2024-10-04T17:00:00-07:00',\n",
    "        'timeZone': 'America/Los_Angeles',\n",
    "      },\n",
    "    }\n",
    "    created_event = service.events().insert(calendarId=\"primary\", body = event).execute()\n",
    "    print(f\"Event created: {created_event.get('htmlLink')}\")\n",
    "\n",
    "  except HttpError as error:\n",
    "    print(f\"An error occurred: {error}\")\n",
    "\n",
    "\n",
    "if __name__ == \"__main__\":\n",
    "  main()"
   ]
  },
  {
   "cell_type": "code",
   "execution_count": 54,
   "id": "8f1133d0-3f60-4d63-98e6-c513f6e91025",
   "metadata": {},
   "outputs": [],
   "source": [
    "import datetime\n",
    "import os.path\n",
    "\n",
    "from google.auth.transport.requests import Request\n",
    "from google.oauth2.credentials import Credentials\n",
    "from google_auth_oauthlib.flow import InstalledAppFlow\n",
    "from googleapiclient.discovery import build\n",
    "from googleapiclient.errors import HttpError"
   ]
  },
  {
   "cell_type": "code",
   "execution_count": 55,
   "id": "80341427-c8ce-4450-8c47-40092620fce0",
   "metadata": {},
   "outputs": [],
   "source": [
    "SCOPES = [\"https://www.googleapis.com/auth/calendar\"]"
   ]
  },
  {
   "cell_type": "code",
   "execution_count": 66,
   "id": "8cba8d7e-07a2-4444-bf84-0ea552e7075b",
   "metadata": {},
   "outputs": [],
   "source": [
    "def get_credentials():\n",
    "  creds = None\n",
    "  # The file token.json stores the user's access and refresh tokens, and is\n",
    "  # created automatically when the authorization flow completes for the first\n",
    "  # time.\n",
    "  if os.path.exists(\"token.json\"):\n",
    "    creds = Credentials.from_authorized_user_file(\"token.json\", SCOPES)\n",
    "  # If there are no (valid) credentials available, let the user log in.\n",
    "  if not creds or not creds.valid:\n",
    "    if creds and creds.expired and creds.refresh_token:\n",
    "      creds.refresh(Request())\n",
    "    else:\n",
    "      flow = InstalledAppFlow.from_client_secrets_file(\n",
    "          \"credentials.json\", SCOPES\n",
    "      )\n",
    "      creds = flow.run_local_server(port=0)\n",
    "    # Save the credentials for the next run\n",
    "    with open(\"token.json\", \"w\") as token:\n",
    "      token.write(creds.to_json())\n",
    "\n",
    "    return creds"
   ]
  },
  {
   "cell_type": "code",
   "execution_count": 67,
   "id": "169a912f-a9cd-4626-8162-abdda860e952",
   "metadata": {},
   "outputs": [],
   "source": [
    "def create_event(service):\n",
    "\n",
    "  try:\n",
    "\n",
    "    event = {\n",
    "      'summary': 'Sample',\n",
    "      'location': 'somewhere',\n",
    "      'description': 'Ohhh i want this to work so bad',\n",
    "      'start': {\n",
    "        'dateTime': '2024-10-04T09:00:00-07:00',\n",
    "        'timeZone': 'America/Los_Angeles',\n",
    "      },\n",
    "      'end': {\n",
    "        'dateTime': '2024-10-04T17:00:00-07:00',\n",
    "        'timeZone': 'America/Los_Angeles',\n",
    "      },\n",
    "      'attendees': [\n",
    "        {'email': 'iantruel@gmail.com'},\n",
    "      ],\n",
    "    }\n",
    "    created_event = service.events().insert(calendarId=\"primary\", body = event).execute()\n",
    "    print(f\"Event created: {created_event.get('htmlLink')}\")\n",
    "      \n",
    "  except HttpError as error:\n",
    "    print(f\"An error occurred: {error}\")\n"
   ]
  },
  {
   "cell_type": "code",
   "execution_count": 68,
   "id": "58ac698e-47fd-4902-b302-d1df22bf08e9",
   "metadata": {},
   "outputs": [],
   "source": [
    "def main():\n",
    "    creds = get_credentials()\n",
    "    service = build(\"calendar\", \"v3\", credentials=creds)\n",
    "    create_event(service)\n",
    "    "
   ]
  },
  {
   "cell_type": "code",
   "execution_count": 69,
   "id": "43514232-0c45-44cd-bcec-c1a0ed63862d",
   "metadata": {},
   "outputs": [
    {
     "name": "stdout",
     "output_type": "stream",
     "text": [
      "Please visit this URL to authorize this application: https://accounts.google.com/o/oauth2/auth?response_type=code&client_id=676664675608-4s53ce59lmk48t9nhg4cnfc7j36r1ubp.apps.googleusercontent.com&redirect_uri=http%3A%2F%2Flocalhost%3A64374%2F&scope=https%3A%2F%2Fwww.googleapis.com%2Fauth%2Fcalendar&state=3PKzopFhJ1TLrm6AwZRHlHxeMj0fIm&access_type=offline\n",
      "Event created: https://www.google.com/calendar/event?eid=aWVtNmY2aHB2M2tyNjY2MGNzazVxdjhxaGsgbWFkb2VuZ2VzNjZAbQ\n"
     ]
    }
   ],
   "source": [
    "if __name__ == \"__main__\":\n",
    "    main()"
   ]
  },
  {
   "cell_type": "code",
   "execution_count": null,
   "id": "d27288d4-1208-457a-8c21-6d7658bd5c7b",
   "metadata": {},
   "outputs": [],
   "source": []
  }
 ],
 "metadata": {
  "kernelspec": {
   "display_name": "Python 3 (ipykernel)",
   "language": "python",
   "name": "python3"
  },
  "language_info": {
   "codemirror_mode": {
    "name": "ipython",
    "version": 3
   },
   "file_extension": ".py",
   "mimetype": "text/x-python",
   "name": "python",
   "nbconvert_exporter": "python",
   "pygments_lexer": "ipython3",
   "version": "3.12.4"
  }
 },
 "nbformat": 4,
 "nbformat_minor": 5
}
